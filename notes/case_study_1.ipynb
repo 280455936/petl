{
 "metadata": {
  "name": "",
  "signature": "sha256:7c8f18d82250be30dfe8e0f3c0ea9c6644cfd3d140a1c94971cf2db05d4eed0f"
 },
 "nbformat": 3,
 "nbformat_minor": 0,
 "worksheets": [
  {
   "cells": [
    {
     "cell_type": "code",
     "collapsed": false,
     "input": [
      "# dev\n",
      "import sys\n",
      "sys.path.insert(0, '..')\n",
      "sys.version_info"
     ],
     "language": "python",
     "metadata": {},
     "outputs": [
      {
       "metadata": {},
       "output_type": "pyout",
       "prompt_number": 1,
       "text": [
        "sys.version_info(major=3, minor=4, micro=2, releaselevel='final', serial=0)"
       ]
      }
     ],
     "prompt_number": 1
    },
    {
     "cell_type": "heading",
     "level": 1,
     "metadata": {},
     "source": [
      "[petl](http://petl.readthedocs.org) Case Study 1 - Comparing Tables"
     ]
    },
    {
     "cell_type": "markdown",
     "metadata": {},
     "source": [
      "This case study illustrates the use of the [petl](http://petl.readthedocs.org) package for doing some simple profiling and comparison of data from\n",
      "two tables.\n"
     ]
    },
    {
     "cell_type": "heading",
     "level": 2,
     "metadata": {},
     "source": [
      "Introduction"
     ]
    },
    {
     "cell_type": "markdown",
     "metadata": {},
     "source": [
      "The files used in this case study can be downloaded from the following\n",
      "link:\n",
      "\n",
      "* http://aliman.s3.amazonaws.com/petl/petl-case-study-1-files.zip\n",
      "\n",
      "Download and unzip the files:"
     ]
    },
    {
     "cell_type": "code",
     "collapsed": false,
     "input": [
      "!wget http://aliman.s3.amazonaws.com/petl/petl-case-study-1-files.zip\n",
      "!unzip -o petl-case-study-1-files.zip"
     ],
     "language": "python",
     "metadata": {},
     "outputs": [
      {
       "output_type": "stream",
       "stream": "stdout",
       "text": [
        "--2015-01-08 15:09:55--  http://aliman.s3.amazonaws.com/petl/petl-case-study-1-files.zip\r\n",
        "Resolving aliman.s3.amazonaws.com (aliman.s3.amazonaws.com)... 54.231.32.185\r\n",
        "Connecting to aliman.s3.amazonaws.com (aliman.s3.amazonaws.com)|54.231.32.185|:80... "
       ]
      },
      {
       "output_type": "stream",
       "stream": "stdout",
       "text": [
        "connected.\r\n",
        "HTTP request sent, awaiting response... "
       ]
      },
      {
       "output_type": "stream",
       "stream": "stdout",
       "text": [
        "200 OK\r\n",
        "Length: 3076773 (2.9M) [application/zip]\r\n",
        "Saving to: \u2018petl-case-study-1-files.zip.9\u2019\r\n",
        "\r\n",
        "\r",
        " 0% [                                       ] 0           --.-K/s              "
       ]
      },
      {
       "output_type": "stream",
       "stream": "stdout",
       "text": [
        "\r",
        " 3% [>                                      ] 113,908      416KB/s             "
       ]
      },
      {
       "output_type": "stream",
       "stream": "stdout",
       "text": [
        "\r",
        " 9% [==>                                    ] 281,240      513KB/s             "
       ]
      },
      {
       "output_type": "stream",
       "stream": "stdout",
       "text": [
        "\r",
        "15% [=====>                                 ] 480,368      584KB/s             "
       ]
      },
      {
       "output_type": "stream",
       "stream": "stdout",
       "text": [
        "\r",
        "26% [=========>                             ] 805,380      734KB/s             "
       ]
      },
      {
       "output_type": "stream",
       "stream": "stdout",
       "text": [
        "\r",
        "38% [==============>                        ] 1,187,900    865KB/s             "
       ]
      },
      {
       "output_type": "stream",
       "stream": "stdout",
       "text": [
        "\r",
        "53% [===================>                   ] 1,638,148    994KB/s             "
       ]
      },
      {
       "output_type": "stream",
       "stream": "stdout",
       "text": [
        "\r",
        "71% [===========================>           ] 2,214,848   1.13MB/s             "
       ]
      },
      {
       "output_type": "stream",
       "stream": "stdout",
       "text": [
        "\r",
        "97% [====================================>  ] 2,987,188   1.33MB/s             \r",
        "100%[======================================>] 3,076,773   1.37MB/s   in 2.1s   \r\n",
        "\r\n",
        "2015-01-08 15:09:57 (1.37 MB/s) - \u2018petl-case-study-1-files.zip.9\u2019 saved [3076773/3076773]\r\n",
        "\r\n"
       ]
      },
      {
       "output_type": "stream",
       "stream": "stdout",
       "text": [
        "Archive:  petl-case-study-1-files.zip\r\n",
        "  inflating: popdata.csv             "
       ]
      },
      {
       "output_type": "stream",
       "stream": "stdout",
       "text": [
        "\r\n",
        "  inflating: snpdata.csv             "
       ]
      },
      {
       "output_type": "stream",
       "stream": "stdout",
       "text": [
        "\r\n"
       ]
      }
     ],
     "prompt_number": 2
    },
    {
     "cell_type": "markdown",
     "metadata": {},
     "source": [
      "The first file (`snpdata.csv`) contains a list of locations in the\n",
      "genome of the malaria parasite *P. falciparum*, along with some basic\n",
      "data about genetic variations found at those locations.\n",
      "\n",
      "The second file (`popdata.csv`) is supposed to contain the same list\n",
      "of genome locations, along with some additional data such as allele\n",
      "frequencies in different populations.\n",
      "\n",
      "The main point for this case study is that the first file\n",
      "(`snpdata.csv`) contains the canonical list of genome locations, and\n",
      "the second file (`popdata.csv`) contains some additional data about\n",
      "the same genome locations and therefore should be consistent with the\n",
      "first file. We want to check whether this second file is in fact\n",
      "consistent with the first file."
     ]
    },
    {
     "cell_type": "heading",
     "level": 2,
     "metadata": {},
     "source": [
      "Preparing the data"
     ]
    },
    {
     "cell_type": "markdown",
     "metadata": {},
     "source": [
      "Start by importing the petl package:"
     ]
    },
    {
     "cell_type": "code",
     "collapsed": false,
     "input": [
      "import petl as etl\n",
      "etl.__version__"
     ],
     "language": "python",
     "metadata": {},
     "outputs": [
      {
       "metadata": {},
       "output_type": "pyout",
       "prompt_number": 3,
       "text": [
        "'1.0a1.dev0'"
       ]
      }
     ],
     "prompt_number": 3
    },
    {
     "cell_type": "markdown",
     "metadata": {},
     "source": [
      "To save some typing, let ***a*** be the table of data extracted from the\n",
      "first file (`snpdata.csv`), and let ***b*** be the table of data extracted\n",
      "from the second file (`popdata.csv`), using the `fromcsv()`\n",
      "function:"
     ]
    },
    {
     "cell_type": "code",
     "collapsed": false,
     "input": [
      "a = etl.fromutsv('snpdata.csv')\n",
      "b = etl.fromutsv('popdata.csv')"
     ],
     "language": "python",
     "metadata": {},
     "outputs": [],
     "prompt_number": 4
    },
    {
     "cell_type": "markdown",
     "metadata": {},
     "source": [
      "Examine the header from each file:"
     ]
    },
    {
     "cell_type": "code",
     "collapsed": false,
     "input": [
      "a.header()"
     ],
     "language": "python",
     "metadata": {},
     "outputs": [
      {
       "metadata": {},
       "output_type": "pyout",
       "prompt_number": 5,
       "text": [
        "('Chr',\n",
        " 'Pos',\n",
        " 'Ref',\n",
        " 'Nref',\n",
        " 'Der',\n",
        " 'Mut',\n",
        " 'isTypable',\n",
        " 'GeneId',\n",
        " 'GeneAlias',\n",
        " 'GeneDescr')"
       ]
      }
     ],
     "prompt_number": 5
    },
    {
     "cell_type": "code",
     "collapsed": false,
     "input": [
      "b.header()"
     ],
     "language": "python",
     "metadata": {},
     "outputs": [
      {
       "metadata": {},
       "output_type": "pyout",
       "prompt_number": 6,
       "text": [
        "('Chromosome',\n",
        " 'Coordinates',\n",
        " 'Ref. Allele',\n",
        " 'Non-Ref. Allele',\n",
        " 'Outgroup Allele',\n",
        " 'Ancestral Allele',\n",
        " 'Derived Allele',\n",
        " 'Ref. Aminoacid',\n",
        " 'Non-Ref. Aminoacid',\n",
        " 'Private Allele',\n",
        " 'Private population',\n",
        " 'maf AFR',\n",
        " 'maf PNG',\n",
        " 'maf SEA',\n",
        " 'daf AFR',\n",
        " 'daf PNG',\n",
        " 'daf SEA',\n",
        " 'nraf AFR',\n",
        " 'nraf PNG',\n",
        " 'nraf SEA',\n",
        " 'Mutation type',\n",
        " 'Gene',\n",
        " 'Gene Aliases',\n",
        " 'Gene Description',\n",
        " 'Gene Information')"
       ]
      }
     ],
     "prompt_number": 6
    },
    {
     "cell_type": "markdown",
     "metadata": {},
     "source": [
      "There is a common set of 9 fields that is present in both tables, and\n",
      "we would like focus on comparing these common fields, however\n",
      "different field names have been used in the two files. To simplify\n",
      "comparison, use `rename()` to rename some fields in the\n",
      "second file:"
     ]
    },
    {
     "cell_type": "code",
     "collapsed": false,
     "input": [
      "b_renamed = b.rename({'Chromosome': 'Chr', \n",
      "                      'Coordinates': 'Pos', \n",
      "                      'Ref. Allele': 'Ref', \n",
      "                      'Non-Ref. Allele': 'Nref', \n",
      "                      'Derived Allele': 'Der', \n",
      "                      'Mutation type': 'Mut', \n",
      "                      'Gene': 'GeneId', \n",
      "                      'Gene Aliases': 'GeneAlias', \n",
      "                      'Gene Description': 'GeneDescr'})\n",
      "b_renamed.header()"
     ],
     "language": "python",
     "metadata": {},
     "outputs": [
      {
       "metadata": {},
       "output_type": "pyout",
       "prompt_number": 7,
       "text": [
        "('Chr',\n",
        " 'Pos',\n",
        " 'Ref',\n",
        " 'Nref',\n",
        " 'Outgroup Allele',\n",
        " 'Ancestral Allele',\n",
        " 'Der',\n",
        " 'Ref. Aminoacid',\n",
        " 'Non-Ref. Aminoacid',\n",
        " 'Private Allele',\n",
        " 'Private population',\n",
        " 'maf AFR',\n",
        " 'maf PNG',\n",
        " 'maf SEA',\n",
        " 'daf AFR',\n",
        " 'daf PNG',\n",
        " 'daf SEA',\n",
        " 'nraf AFR',\n",
        " 'nraf PNG',\n",
        " 'nraf SEA',\n",
        " 'Mut',\n",
        " 'GeneId',\n",
        " 'GeneAlias',\n",
        " 'GeneDescr',\n",
        " 'Gene Information')"
       ]
      }
     ],
     "prompt_number": 7
    },
    {
     "cell_type": "markdown",
     "metadata": {},
     "source": [
      "Use `cut()` to extract only the fields we're interested in\n",
      "from both tables:"
     ]
    },
    {
     "cell_type": "code",
     "collapsed": false,
     "input": [
      "common_fields = ['Chr', 'Pos', 'Ref', 'Nref', 'Der', 'Mut', 'GeneId', 'GeneAlias', 'GeneDescr']\n",
      "a_common = a.cut(common_fields)\n",
      "b_common = b_renamed.cut(common_fields)"
     ],
     "language": "python",
     "metadata": {},
     "outputs": [],
     "prompt_number": 8
    },
    {
     "cell_type": "markdown",
     "metadata": {},
     "source": [
      "Inspect the data:"
     ]
    },
    {
     "cell_type": "code",
     "collapsed": false,
     "input": [
      "a_common"
     ],
     "language": "python",
     "metadata": {},
     "outputs": [
      {
       "html": [
        "<table class='petl'>\r\n",
        "<thead>\r\n",
        "<tr>\r\n",
        "<th>0|Chr</th>\r\n",
        "<th>1|Pos</th>\r\n",
        "<th>2|Ref</th>\r\n",
        "<th>3|Nref</th>\r\n",
        "<th>4|Der</th>\r\n",
        "<th>5|Mut</th>\r\n",
        "<th>6|GeneId</th>\r\n",
        "<th>7|GeneAlias</th>\r\n",
        "<th>8|GeneDescr</th>\r\n",
        "</tr>\r\n",
        "</thead>\r\n",
        "<tbody>\r\n",
        "<tr>\r\n",
        "<td>MAL1</td>\r\n",
        "<td>91099</td>\r\n",
        "<td>G</td>\r\n",
        "<td>A</td>\r\n",
        "<td>-</td>\r\n",
        "<td>S</td>\r\n",
        "<td>PFA0095c</td>\r\n",
        "<td>MAL1P1.10</td>\r\n",
        "<td>rifin</td>\r\n",
        "</tr>\r\n",
        "<tr>\r\n",
        "<td>MAL1</td>\r\n",
        "<td>91104</td>\r\n",
        "<td>A</td>\r\n",
        "<td>T</td>\r\n",
        "<td>-</td>\r\n",
        "<td>N</td>\r\n",
        "<td>PFA0095c</td>\r\n",
        "<td>MAL1P1.10</td>\r\n",
        "<td>rifin</td>\r\n",
        "</tr>\r\n",
        "<tr>\r\n",
        "<td>MAL1</td>\r\n",
        "<td>93363</td>\r\n",
        "<td>T</td>\r\n",
        "<td>A</td>\r\n",
        "<td>-</td>\r\n",
        "<td>N</td>\r\n",
        "<td>PFA0100c</td>\r\n",
        "<td>MAL1P1.11</td>\r\n",
        "<td>hypothetical protein, conserved in P. falciparum</td>\r\n",
        "</tr>\r\n",
        "<tr>\r\n",
        "<td>MAL1</td>\r\n",
        "<td>93382</td>\r\n",
        "<td>T</td>\r\n",
        "<td>G</td>\r\n",
        "<td>-</td>\r\n",
        "<td>N</td>\r\n",
        "<td>PFA0100c</td>\r\n",
        "<td>MAL1P1.11</td>\r\n",
        "<td>hypothetical protein, conserved in P. falciparum</td>\r\n",
        "</tr>\r\n",
        "<tr>\r\n",
        "<td>MAL1</td>\r\n",
        "<td>93384</td>\r\n",
        "<td>G</td>\r\n",
        "<td>A</td>\r\n",
        "<td>-</td>\r\n",
        "<td>N</td>\r\n",
        "<td>PFA0100c</td>\r\n",
        "<td>MAL1P1.11</td>\r\n",
        "<td>hypothetical protein, conserved in P. falciparum</td>\r\n",
        "</tr>\r\n",
        "</tbody>\r\n",
        "</table>\r\n",
        "<p><strong>...</strong></p>"
       ],
       "metadata": {},
       "output_type": "pyout",
       "prompt_number": 9,
       "text": [
        "+--------+---------+-------+--------+-------+-------+------------+-------------+----------------------------------------------------+\n",
        "| 0|Chr  | 1|Pos   | 2|Ref | 3|Nref | 4|Der | 5|Mut | 6|GeneId   | 7|GeneAlias | 8|GeneDescr                                        |\n",
        "+========+=========+=======+========+=======+=======+============+=============+====================================================+\n",
        "| 'MAL1' | '91099' | 'G'   | 'A'    | '-'   | 'S'   | 'PFA0095c' | 'MAL1P1.10' | 'rifin'                                            |\n",
        "+--------+---------+-------+--------+-------+-------+------------+-------------+----------------------------------------------------+\n",
        "| 'MAL1' | '91104' | 'A'   | 'T'    | '-'   | 'N'   | 'PFA0095c' | 'MAL1P1.10' | 'rifin'                                            |\n",
        "+--------+---------+-------+--------+-------+-------+------------+-------------+----------------------------------------------------+\n",
        "| 'MAL1' | '93363' | 'T'   | 'A'    | '-'   | 'N'   | 'PFA0100c' | 'MAL1P1.11' | 'hypothetical protein, conserved in P. falciparum' |\n",
        "+--------+---------+-------+--------+-------+-------+------------+-------------+----------------------------------------------------+\n",
        "| 'MAL1' | '93382' | 'T'   | 'G'    | '-'   | 'N'   | 'PFA0100c' | 'MAL1P1.11' | 'hypothetical protein, conserved in P. falciparum' |\n",
        "+--------+---------+-------+--------+-------+-------+------------+-------------+----------------------------------------------------+\n",
        "| 'MAL1' | '93384' | 'G'   | 'A'    | '-'   | 'N'   | 'PFA0100c' | 'MAL1P1.11' | 'hypothetical protein, conserved in P. falciparum' |\n",
        "+--------+---------+-------+--------+-------+-------+------------+-------------+----------------------------------------------------+\n",
        "..."
       ]
      }
     ],
     "prompt_number": 9
    },
    {
     "cell_type": "code",
     "collapsed": false,
     "input": [
      "b_common"
     ],
     "language": "python",
     "metadata": {},
     "outputs": [
      {
       "html": [
        "<table class='petl'>\r\n",
        "<thead>\r\n",
        "<tr>\r\n",
        "<th>0|Chr</th>\r\n",
        "<th>1|Pos</th>\r\n",
        "<th>2|Ref</th>\r\n",
        "<th>3|Nref</th>\r\n",
        "<th>4|Der</th>\r\n",
        "<th>5|Mut</th>\r\n",
        "<th>6|GeneId</th>\r\n",
        "<th>7|GeneAlias</th>\r\n",
        "<th>8|GeneDescr</th>\r\n",
        "</tr>\r\n",
        "</thead>\r\n",
        "<tbody>\r\n",
        "<tr>\r\n",
        "<td>MAL1</td>\r\n",
        "<td>91099</td>\r\n",
        "<td>G</td>\r\n",
        "<td>A</td>\r\n",
        "<td>-</td>\r\n",
        "<td>SYN</td>\r\n",
        "<td>PFA0095c</td>\r\n",
        "<td>MAL1P1.10,RIF</td>\r\n",
        "<td>rifin</td>\r\n",
        "</tr>\r\n",
        "<tr>\r\n",
        "<td>MAL1</td>\r\n",
        "<td>91104</td>\r\n",
        "<td>A</td>\r\n",
        "<td>T</td>\r\n",
        "<td>-</td>\r\n",
        "<td>NON</td>\r\n",
        "<td>PFA0095c</td>\r\n",
        "<td>MAL1P1.10,RIF</td>\r\n",
        "<td>rifin</td>\r\n",
        "</tr>\r\n",
        "<tr>\r\n",
        "<td>MAL1</td>\r\n",
        "<td>93363</td>\r\n",
        "<td>T</td>\r\n",
        "<td>A</td>\r\n",
        "<td>-</td>\r\n",
        "<td>NON</td>\r\n",
        "<td>PFA0100c</td>\r\n",
        "<td>MAL1P1.11</td>\r\n",
        "<td>Plasmodium exported protein (PHISTa), unknown function</td>\r\n",
        "</tr>\r\n",
        "<tr>\r\n",
        "<td>MAL1</td>\r\n",
        "<td>93382</td>\r\n",
        "<td>T</td>\r\n",
        "<td>G</td>\r\n",
        "<td>-</td>\r\n",
        "<td>NON</td>\r\n",
        "<td>PFA0100c</td>\r\n",
        "<td>MAL1P1.11</td>\r\n",
        "<td>Plasmodium exported protein (PHISTa), unknown function</td>\r\n",
        "</tr>\r\n",
        "<tr>\r\n",
        "<td>MAL1</td>\r\n",
        "<td>93384</td>\r\n",
        "<td>G</td>\r\n",
        "<td>A</td>\r\n",
        "<td>-</td>\r\n",
        "<td>NON</td>\r\n",
        "<td>PFA0100c</td>\r\n",
        "<td>MAL1P1.11</td>\r\n",
        "<td>Plasmodium exported protein (PHISTa), unknown function</td>\r\n",
        "</tr>\r\n",
        "</tbody>\r\n",
        "</table>\r\n",
        "<p><strong>...</strong></p>"
       ],
       "metadata": {},
       "output_type": "pyout",
       "prompt_number": 10,
       "text": [
        "+--------+---------+-------+--------+-------+-------+------------+-----------------+----------------------------------------------------------+\n",
        "| 0|Chr  | 1|Pos   | 2|Ref | 3|Nref | 4|Der | 5|Mut | 6|GeneId   | 7|GeneAlias     | 8|GeneDescr                                              |\n",
        "+========+=========+=======+========+=======+=======+============+=================+==========================================================+\n",
        "| 'MAL1' | '91099' | 'G'   | 'A'    | '-'   | 'SYN' | 'PFA0095c' | 'MAL1P1.10,RIF' | 'rifin'                                                  |\n",
        "+--------+---------+-------+--------+-------+-------+------------+-----------------+----------------------------------------------------------+\n",
        "| 'MAL1' | '91104' | 'A'   | 'T'    | '-'   | 'NON' | 'PFA0095c' | 'MAL1P1.10,RIF' | 'rifin'                                                  |\n",
        "+--------+---------+-------+--------+-------+-------+------------+-----------------+----------------------------------------------------------+\n",
        "| 'MAL1' | '93363' | 'T'   | 'A'    | '-'   | 'NON' | 'PFA0100c' | 'MAL1P1.11'     | 'Plasmodium exported protein (PHISTa), unknown function' |\n",
        "+--------+---------+-------+--------+-------+-------+------------+-----------------+----------------------------------------------------------+\n",
        "| 'MAL1' | '93382' | 'T'   | 'G'    | '-'   | 'NON' | 'PFA0100c' | 'MAL1P1.11'     | 'Plasmodium exported protein (PHISTa), unknown function' |\n",
        "+--------+---------+-------+--------+-------+-------+------------+-----------------+----------------------------------------------------------+\n",
        "| 'MAL1' | '93384' | 'G'   | 'A'    | '-'   | 'NON' | 'PFA0100c' | 'MAL1P1.11'     | 'Plasmodium exported protein (PHISTa), unknown function' |\n",
        "+--------+---------+-------+--------+-------+-------+------------+-----------------+----------------------------------------------------------+\n",
        "..."
       ]
      }
     ],
     "prompt_number": 10
    },
    {
     "cell_type": "markdown",
     "metadata": {},
     "source": [
      "The `fromucsv()` function does not attempt to parse any of the\n",
      "values from the underlying CSV file, so all values are reported as\n",
      "strings:"
     ]
    },
    {
     "cell_type": "code",
     "collapsed": false,
     "input": [
      "b_common.display(vrepr=repr)"
     ],
     "language": "python",
     "metadata": {},
     "outputs": [
      {
       "html": [
        "<table class='petl'>\r\n",
        "<thead>\r\n",
        "<tr>\r\n",
        "<th>Chr</th>\r\n",
        "<th>Pos</th>\r\n",
        "<th>Ref</th>\r\n",
        "<th>Nref</th>\r\n",
        "<th>Der</th>\r\n",
        "<th>Mut</th>\r\n",
        "<th>GeneId</th>\r\n",
        "<th>GeneAlias</th>\r\n",
        "<th>GeneDescr</th>\r\n",
        "</tr>\r\n",
        "</thead>\r\n",
        "<tbody>\r\n",
        "<tr>\r\n",
        "<td>'MAL1'</td>\r\n",
        "<td>'91099'</td>\r\n",
        "<td>'G'</td>\r\n",
        "<td>'A'</td>\r\n",
        "<td>'-'</td>\r\n",
        "<td>'SYN'</td>\r\n",
        "<td>'PFA0095c'</td>\r\n",
        "<td>'MAL1P1.10,RIF'</td>\r\n",
        "<td>'rifin'</td>\r\n",
        "</tr>\r\n",
        "<tr>\r\n",
        "<td>'MAL1'</td>\r\n",
        "<td>'91104'</td>\r\n",
        "<td>'A'</td>\r\n",
        "<td>'T'</td>\r\n",
        "<td>'-'</td>\r\n",
        "<td>'NON'</td>\r\n",
        "<td>'PFA0095c'</td>\r\n",
        "<td>'MAL1P1.10,RIF'</td>\r\n",
        "<td>'rifin'</td>\r\n",
        "</tr>\r\n",
        "<tr>\r\n",
        "<td>'MAL1'</td>\r\n",
        "<td>'93363'</td>\r\n",
        "<td>'T'</td>\r\n",
        "<td>'A'</td>\r\n",
        "<td>'-'</td>\r\n",
        "<td>'NON'</td>\r\n",
        "<td>'PFA0100c'</td>\r\n",
        "<td>'MAL1P1.11'</td>\r\n",
        "<td>'Plasmodium exported protein (PHISTa), unknown function'</td>\r\n",
        "</tr>\r\n",
        "<tr>\r\n",
        "<td>'MAL1'</td>\r\n",
        "<td>'93382'</td>\r\n",
        "<td>'T'</td>\r\n",
        "<td>'G'</td>\r\n",
        "<td>'-'</td>\r\n",
        "<td>'NON'</td>\r\n",
        "<td>'PFA0100c'</td>\r\n",
        "<td>'MAL1P1.11'</td>\r\n",
        "<td>'Plasmodium exported protein (PHISTa), unknown function'</td>\r\n",
        "</tr>\r\n",
        "<tr>\r\n",
        "<td>'MAL1'</td>\r\n",
        "<td>'93384'</td>\r\n",
        "<td>'G'</td>\r\n",
        "<td>'A'</td>\r\n",
        "<td>'-'</td>\r\n",
        "<td>'NON'</td>\r\n",
        "<td>'PFA0100c'</td>\r\n",
        "<td>'MAL1P1.11'</td>\r\n",
        "<td>'Plasmodium exported protein (PHISTa), unknown function'</td>\r\n",
        "</tr>\r\n",
        "</tbody>\r\n",
        "</table>\r\n",
        "<p><strong>...</strong></p>"
       ],
       "metadata": {},
       "output_type": "display_data"
      }
     ],
     "prompt_number": 11
    },
    {
     "cell_type": "markdown",
     "metadata": {},
     "source": [
      "However, the 'Pos' field should be interpreted as an integer.\n",
      "\n",
      "Also, the 'Mut' field has a different representation in the two\n",
      "tables, which needs to be converted before the data can be compared:"
     ]
    },
    {
     "cell_type": "code",
     "collapsed": false,
     "input": [
      "a_common.valuecounts('Mut')"
     ],
     "language": "python",
     "metadata": {},
     "outputs": [
      {
       "html": [
        "<table class='petl'>\r\n",
        "<thead>\r\n",
        "<tr>\r\n",
        "<th>0|Mut</th>\r\n",
        "<th>1|count</th>\r\n",
        "<th>2|frequency</th>\r\n",
        "</tr>\r\n",
        "</thead>\r\n",
        "<tbody>\r\n",
        "<tr>\r\n",
        "<td>N</td>\r\n",
        "<td style='text-align: right'>71162</td>\r\n",
        "<td style='text-align: right'>0.6865804123611875</td>\r\n",
        "</tr>\r\n",
        "<tr>\r\n",
        "<td>S</td>\r\n",
        "<td style='text-align: right'>31535</td>\r\n",
        "<td style='text-align: right'>0.30425386166507473</td>\r\n",
        "</tr>\r\n",
        "<tr>\r\n",
        "<td>-</td>\r\n",
        "<td style='text-align: right'>950</td>\r\n",
        "<td style='text-align: right'>0.009165725973737783</td>\r\n",
        "</tr>\r\n",
        "</tbody>\r\n",
        "</table>\r\n"
       ],
       "metadata": {},
       "output_type": "pyout",
       "prompt_number": 12,
       "text": [
        "+-------+---------+----------------------+\n",
        "| 0|Mut | 1|count | 2|frequency          |\n",
        "+=======+=========+======================+\n",
        "| 'N'   |   71162 |   0.6865804123611875 |\n",
        "+-------+---------+----------------------+\n",
        "| 'S'   |   31535 |  0.30425386166507473 |\n",
        "+-------+---------+----------------------+\n",
        "| '-'   |     950 | 0.009165725973737783 |\n",
        "+-------+---------+----------------------+"
       ]
      }
     ],
     "prompt_number": 12
    },
    {
     "cell_type": "code",
     "collapsed": false,
     "input": [
      "b_common.valuecounts('Mut')"
     ],
     "language": "python",
     "metadata": {},
     "outputs": [
      {
       "html": [
        "<table class='petl'>\r\n",
        "<thead>\r\n",
        "<tr>\r\n",
        "<th>0|Mut</th>\r\n",
        "<th>1|count</th>\r\n",
        "<th>2|frequency</th>\r\n",
        "</tr>\r\n",
        "</thead>\r\n",
        "<tbody>\r\n",
        "<tr>\r\n",
        "<td>NON</td>\r\n",
        "<td style='text-align: right'>70880</td>\r\n",
        "<td style='text-align: right'>0.6840510336042</td>\r\n",
        "</tr>\r\n",
        "<tr>\r\n",
        "<td>SYN</td>\r\n",
        "<td style='text-align: right'>32738</td>\r\n",
        "<td style='text-align: right'>0.31594896639579995</td>\r\n",
        "</tr>\r\n",
        "</tbody>\r\n",
        "</table>\r\n"
       ],
       "metadata": {},
       "output_type": "pyout",
       "prompt_number": 13,
       "text": [
        "+-------+---------+---------------------+\n",
        "| 0|Mut | 1|count | 2|frequency         |\n",
        "+=======+=========+=====================+\n",
        "| 'NON' |   70880 |     0.6840510336042 |\n",
        "+-------+---------+---------------------+\n",
        "| 'SYN' |   32738 | 0.31594896639579995 |\n",
        "+-------+---------+---------------------+"
       ]
      }
     ],
     "prompt_number": 13
    },
    {
     "cell_type": "markdown",
     "metadata": {},
     "source": [
      "Use the `convert()` function to convert the type of the 'Pos'\n",
      "field in both tables and the representation of the 'Mut' field in\n",
      "table ***b***:"
     ]
    },
    {
     "cell_type": "code",
     "collapsed": false,
     "input": [
      "a_conv = a_common.convert('Pos', int)\n",
      "b_conv = (\n",
      "    b_common\n",
      "    .convert('Pos', int)\n",
      "    .convert('Mut', {'SYN': 'S', 'NON': 'N'})\n",
      ")"
     ],
     "language": "python",
     "metadata": {},
     "outputs": [],
     "prompt_number": 14
    },
    {
     "cell_type": "code",
     "collapsed": false,
     "input": [
      "highlight = 'background-color: yellow'\n",
      "a_conv.display(caption='a', vrepr=repr, td_styles={'Pos': highlight})"
     ],
     "language": "python",
     "metadata": {},
     "outputs": [
      {
       "html": [
        "<table class='petl'>\r\n",
        "<caption>a</caption>\r\n",
        "<thead>\r\n",
        "<tr>\r\n",
        "<th>Chr</th>\r\n",
        "<th>Pos</th>\r\n",
        "<th>Ref</th>\r\n",
        "<th>Nref</th>\r\n",
        "<th>Der</th>\r\n",
        "<th>Mut</th>\r\n",
        "<th>GeneId</th>\r\n",
        "<th>GeneAlias</th>\r\n",
        "<th>GeneDescr</th>\r\n",
        "</tr>\r\n",
        "</thead>\r\n",
        "<tbody>\r\n",
        "<tr>\r\n",
        "<td>'MAL1'</td>\r\n",
        "<td style='background-color: yellow'>91099</td>\r\n",
        "<td>'G'</td>\r\n",
        "<td>'A'</td>\r\n",
        "<td>'-'</td>\r\n",
        "<td>'S'</td>\r\n",
        "<td>'PFA0095c'</td>\r\n",
        "<td>'MAL1P1.10'</td>\r\n",
        "<td>'rifin'</td>\r\n",
        "</tr>\r\n",
        "<tr>\r\n",
        "<td>'MAL1'</td>\r\n",
        "<td style='background-color: yellow'>91104</td>\r\n",
        "<td>'A'</td>\r\n",
        "<td>'T'</td>\r\n",
        "<td>'-'</td>\r\n",
        "<td>'N'</td>\r\n",
        "<td>'PFA0095c'</td>\r\n",
        "<td>'MAL1P1.10'</td>\r\n",
        "<td>'rifin'</td>\r\n",
        "</tr>\r\n",
        "<tr>\r\n",
        "<td>'MAL1'</td>\r\n",
        "<td style='background-color: yellow'>93363</td>\r\n",
        "<td>'T'</td>\r\n",
        "<td>'A'</td>\r\n",
        "<td>'-'</td>\r\n",
        "<td>'N'</td>\r\n",
        "<td>'PFA0100c'</td>\r\n",
        "<td>'MAL1P1.11'</td>\r\n",
        "<td>'hypothetical protein, conserved in P. falciparum'</td>\r\n",
        "</tr>\r\n",
        "<tr>\r\n",
        "<td>'MAL1'</td>\r\n",
        "<td style='background-color: yellow'>93382</td>\r\n",
        "<td>'T'</td>\r\n",
        "<td>'G'</td>\r\n",
        "<td>'-'</td>\r\n",
        "<td>'N'</td>\r\n",
        "<td>'PFA0100c'</td>\r\n",
        "<td>'MAL1P1.11'</td>\r\n",
        "<td>'hypothetical protein, conserved in P. falciparum'</td>\r\n",
        "</tr>\r\n",
        "<tr>\r\n",
        "<td>'MAL1'</td>\r\n",
        "<td style='background-color: yellow'>93384</td>\r\n",
        "<td>'G'</td>\r\n",
        "<td>'A'</td>\r\n",
        "<td>'-'</td>\r\n",
        "<td>'N'</td>\r\n",
        "<td>'PFA0100c'</td>\r\n",
        "<td>'MAL1P1.11'</td>\r\n",
        "<td>'hypothetical protein, conserved in P. falciparum'</td>\r\n",
        "</tr>\r\n",
        "</tbody>\r\n",
        "</table>\r\n",
        "<p><strong>...</strong></p>"
       ],
       "metadata": {},
       "output_type": "display_data"
      }
     ],
     "prompt_number": 15
    },
    {
     "cell_type": "code",
     "collapsed": false,
     "input": [
      "b_conv.display(caption='b', vrepr=repr, td_styles={'Pos': highlight, 'Mut': highlight})"
     ],
     "language": "python",
     "metadata": {},
     "outputs": [
      {
       "html": [
        "<table class='petl'>\r\n",
        "<caption>b</caption>\r\n",
        "<thead>\r\n",
        "<tr>\r\n",
        "<th>Chr</th>\r\n",
        "<th>Pos</th>\r\n",
        "<th>Ref</th>\r\n",
        "<th>Nref</th>\r\n",
        "<th>Der</th>\r\n",
        "<th>Mut</th>\r\n",
        "<th>GeneId</th>\r\n",
        "<th>GeneAlias</th>\r\n",
        "<th>GeneDescr</th>\r\n",
        "</tr>\r\n",
        "</thead>\r\n",
        "<tbody>\r\n",
        "<tr>\r\n",
        "<td>'MAL1'</td>\r\n",
        "<td style='background-color: yellow'>91099</td>\r\n",
        "<td>'G'</td>\r\n",
        "<td>'A'</td>\r\n",
        "<td>'-'</td>\r\n",
        "<td style='background-color: yellow'>'S'</td>\r\n",
        "<td>'PFA0095c'</td>\r\n",
        "<td>'MAL1P1.10,RIF'</td>\r\n",
        "<td>'rifin'</td>\r\n",
        "</tr>\r\n",
        "<tr>\r\n",
        "<td>'MAL1'</td>\r\n",
        "<td style='background-color: yellow'>91104</td>\r\n",
        "<td>'A'</td>\r\n",
        "<td>'T'</td>\r\n",
        "<td>'-'</td>\r\n",
        "<td style='background-color: yellow'>'N'</td>\r\n",
        "<td>'PFA0095c'</td>\r\n",
        "<td>'MAL1P1.10,RIF'</td>\r\n",
        "<td>'rifin'</td>\r\n",
        "</tr>\r\n",
        "<tr>\r\n",
        "<td>'MAL1'</td>\r\n",
        "<td style='background-color: yellow'>93363</td>\r\n",
        "<td>'T'</td>\r\n",
        "<td>'A'</td>\r\n",
        "<td>'-'</td>\r\n",
        "<td style='background-color: yellow'>'N'</td>\r\n",
        "<td>'PFA0100c'</td>\r\n",
        "<td>'MAL1P1.11'</td>\r\n",
        "<td>'Plasmodium exported protein (PHISTa), unknown function'</td>\r\n",
        "</tr>\r\n",
        "<tr>\r\n",
        "<td>'MAL1'</td>\r\n",
        "<td style='background-color: yellow'>93382</td>\r\n",
        "<td>'T'</td>\r\n",
        "<td>'G'</td>\r\n",
        "<td>'-'</td>\r\n",
        "<td style='background-color: yellow'>'N'</td>\r\n",
        "<td>'PFA0100c'</td>\r\n",
        "<td>'MAL1P1.11'</td>\r\n",
        "<td>'Plasmodium exported protein (PHISTa), unknown function'</td>\r\n",
        "</tr>\r\n",
        "<tr>\r\n",
        "<td>'MAL1'</td>\r\n",
        "<td style='background-color: yellow'>93384</td>\r\n",
        "<td>'G'</td>\r\n",
        "<td>'A'</td>\r\n",
        "<td>'-'</td>\r\n",
        "<td style='background-color: yellow'>'N'</td>\r\n",
        "<td>'PFA0100c'</td>\r\n",
        "<td>'MAL1P1.11'</td>\r\n",
        "<td>'Plasmodium exported protein (PHISTa), unknown function'</td>\r\n",
        "</tr>\r\n",
        "</tbody>\r\n",
        "</table>\r\n",
        "<p><strong>...</strong></p>"
       ],
       "metadata": {},
       "output_type": "display_data"
      }
     ],
     "prompt_number": 16
    },
    {
     "cell_type": "markdown",
     "metadata": {},
     "source": [
      "Now the tables are ready for comparison."
     ]
    },
    {
     "cell_type": "heading",
     "level": 2,
     "metadata": {},
     "source": [
      "Looking for missing or unexpected rows"
     ]
    },
    {
     "cell_type": "markdown",
     "metadata": {},
     "source": [
      "Because both tables should contain the same list of genome locations,\n",
      "they should have the same number of rows. Use `nrows()` to\n",
      "compare:"
     ]
    },
    {
     "cell_type": "code",
     "collapsed": false,
     "input": [
      "a_conv.nrows()"
     ],
     "language": "python",
     "metadata": {},
     "outputs": [
      {
       "metadata": {},
       "output_type": "pyout",
       "prompt_number": 17,
       "text": [
        "103647"
       ]
      }
     ],
     "prompt_number": 17
    },
    {
     "cell_type": "code",
     "collapsed": false,
     "input": [
      "b_conv.nrows()"
     ],
     "language": "python",
     "metadata": {},
     "outputs": [
      {
       "metadata": {},
       "output_type": "pyout",
       "prompt_number": 18,
       "text": [
        "103618"
       ]
      }
     ],
     "prompt_number": 18
    },
    {
     "cell_type": "markdown",
     "metadata": {},
     "source": [
      "There is some discrepancy. First investigate by comparing just the\n",
      "genomic locations, defined by the 'Chr' and 'Pos' fields, using\n",
      "`complement()`:"
     ]
    },
    {
     "cell_type": "code",
     "collapsed": false,
     "input": [
      "a_locs = a_conv.cut('Chr', 'Pos')\n",
      "b_locs = b_conv.cut('Chr', 'Pos')\n",
      "locs_only_in_a = a_locs.complement(b_locs)\n",
      "locs_only_in_a.nrows()"
     ],
     "language": "python",
     "metadata": {},
     "outputs": [
      {
       "metadata": {},
       "output_type": "pyout",
       "prompt_number": 19,
       "text": [
        "29"
       ]
      }
     ],
     "prompt_number": 19
    },
    {
     "cell_type": "code",
     "collapsed": false,
     "input": [
      "locs_only_in_a.displayall(caption='a only')"
     ],
     "language": "python",
     "metadata": {},
     "outputs": [
      {
       "html": [
        "<table class='petl'>\r\n",
        "<caption>a only</caption>\r\n",
        "<thead>\r\n",
        "<tr>\r\n",
        "<th>Chr</th>\r\n",
        "<th>Pos</th>\r\n",
        "</tr>\r\n",
        "</thead>\r\n",
        "<tbody>\r\n",
        "<tr>\r\n",
        "<td>MAL1</td>\r\n",
        "<td style='text-align: right'>216961</td>\r\n",
        "</tr>\r\n",
        "<tr>\r\n",
        "<td>MAL10</td>\r\n",
        "<td style='text-align: right'>538210</td>\r\n",
        "</tr>\r\n",
        "<tr>\r\n",
        "<td>MAL10</td>\r\n",
        "<td style='text-align: right'>548779</td>\r\n",
        "</tr>\r\n",
        "<tr>\r\n",
        "<td>MAL10</td>\r\n",
        "<td style='text-align: right'>1432969</td>\r\n",
        "</tr>\r\n",
        "<tr>\r\n",
        "<td>MAL11</td>\r\n",
        "<td style='text-align: right'>500289</td>\r\n",
        "</tr>\r\n",
        "<tr>\r\n",
        "<td>MAL11</td>\r\n",
        "<td style='text-align: right'>1119809</td>\r\n",
        "</tr>\r\n",
        "<tr>\r\n",
        "<td>MAL11</td>\r\n",
        "<td style='text-align: right'>1278859</td>\r\n",
        "</tr>\r\n",
        "<tr>\r\n",
        "<td>MAL12</td>\r\n",
        "<td style='text-align: right'>51827</td>\r\n",
        "</tr>\r\n",
        "<tr>\r\n",
        "<td>MAL13</td>\r\n",
        "<td style='text-align: right'>183727</td>\r\n",
        "</tr>\r\n",
        "<tr>\r\n",
        "<td>MAL13</td>\r\n",
        "<td style='text-align: right'>398404</td>\r\n",
        "</tr>\r\n",
        "<tr>\r\n",
        "<td>MAL13</td>\r\n",
        "<td style='text-align: right'>627342</td>\r\n",
        "</tr>\r\n",
        "<tr>\r\n",
        "<td>MAL13</td>\r\n",
        "<td style='text-align: right'>1216664</td>\r\n",
        "</tr>\r\n",
        "<tr>\r\n",
        "<td>MAL13</td>\r\n",
        "<td style='text-align: right'>2750149</td>\r\n",
        "</tr>\r\n",
        "<tr>\r\n",
        "<td>MAL14</td>\r\n",
        "<td style='text-align: right'>1991758</td>\r\n",
        "</tr>\r\n",
        "<tr>\r\n",
        "<td>MAL14</td>\r\n",
        "<td style='text-align: right'>2297918</td>\r\n",
        "</tr>\r\n",
        "<tr>\r\n",
        "<td>MAL14</td>\r\n",
        "<td style='text-align: right'>2372268</td>\r\n",
        "</tr>\r\n",
        "<tr>\r\n",
        "<td>MAL14</td>\r\n",
        "<td style='text-align: right'>2994810</td>\r\n",
        "</tr>\r\n",
        "<tr>\r\n",
        "<td>MAL2</td>\r\n",
        "<td style='text-align: right'>38577</td>\r\n",
        "</tr>\r\n",
        "<tr>\r\n",
        "<td>MAL2</td>\r\n",
        "<td style='text-align: right'>64017</td>\r\n",
        "</tr>\r\n",
        "<tr>\r\n",
        "<td>MAL4</td>\r\n",
        "<td style='text-align: right'>1094258</td>\r\n",
        "</tr>\r\n",
        "<tr>\r\n",
        "<td>MAL5</td>\r\n",
        "<td style='text-align: right'>1335335</td>\r\n",
        "</tr>\r\n",
        "<tr>\r\n",
        "<td>MAL5</td>\r\n",
        "<td style='text-align: right'>1338718</td>\r\n",
        "</tr>\r\n",
        "<tr>\r\n",
        "<td>MAL7</td>\r\n",
        "<td style='text-align: right'>670602</td>\r\n",
        "</tr>\r\n",
        "<tr>\r\n",
        "<td>MAL7</td>\r\n",
        "<td style='text-align: right'>690509</td>\r\n",
        "</tr>\r\n",
        "<tr>\r\n",
        "<td>MAL8</td>\r\n",
        "<td style='text-align: right'>489937</td>\r\n",
        "</tr>\r\n",
        "<tr>\r\n",
        "<td>MAL9</td>\r\n",
        "<td style='text-align: right'>416116</td>\r\n",
        "</tr>\r\n",
        "<tr>\r\n",
        "<td>MAL9</td>\r\n",
        "<td style='text-align: right'>868677</td>\r\n",
        "</tr>\r\n",
        "<tr>\r\n",
        "<td>MAL9</td>\r\n",
        "<td style='text-align: right'>1201970</td>\r\n",
        "</tr>\r\n",
        "<tr>\r\n",
        "<td>MAL9</td>\r\n",
        "<td style='text-align: right'>1475245</td>\r\n",
        "</tr>\r\n",
        "</tbody>\r\n",
        "</table>\r\n"
       ],
       "metadata": {},
       "output_type": "display_data"
      }
     ],
     "prompt_number": 20
    },
    {
     "cell_type": "code",
     "collapsed": false,
     "input": [
      "locs_only_in_b = b_locs.complement(a_locs)\n",
      "locs_only_in_b.nrows()"
     ],
     "language": "python",
     "metadata": {},
     "outputs": [
      {
       "metadata": {},
       "output_type": "pyout",
       "prompt_number": 21,
       "text": [
        "0"
       ]
      }
     ],
     "prompt_number": 21
    },
    {
     "cell_type": "markdown",
     "metadata": {},
     "source": [
      "So it appears that 29 locations are missing from table ***b***. Export\n",
      "these missing locations to a CSV file using `toucsv()`:"
     ]
    },
    {
     "cell_type": "code",
     "collapsed": false,
     "input": [
      "locs_only_in_a.toucsv('missing_locations.csv')"
     ],
     "language": "python",
     "metadata": {},
     "outputs": [],
     "prompt_number": 22
    },
    {
     "cell_type": "markdown",
     "metadata": {},
     "source": [
      "An alternative method for finding rows in one table where some key\n",
      "value is not present in another table is to use the `antijoin()`\n",
      "function:"
     ]
    },
    {
     "cell_type": "code",
     "collapsed": false,
     "input": [
      "locs_only_in_a = a_conv.antijoin(b_conv, key=('Chr', 'Pos'))\n",
      "locs_only_in_a.nrows()"
     ],
     "language": "python",
     "metadata": {},
     "outputs": [
      {
       "metadata": {},
       "output_type": "pyout",
       "prompt_number": 23,
       "text": [
        "29"
       ]
      }
     ],
     "prompt_number": 23
    },
    {
     "cell_type": "heading",
     "level": 2,
     "metadata": {},
     "source": [
      "Finding conflicts"
     ]
    },
    {
     "cell_type": "markdown",
     "metadata": {},
     "source": [
      "We'd also like to compare the values given in the other fields, to\n",
      "find any discrepancies between the two tables.\n",
      "\n",
      "The simplest way to find conflicts is to `merge()` both tables under a given key:"
     ]
    },
    {
     "cell_type": "code",
     "collapsed": false,
     "input": [
      "ab_merge = etl.merge(a_conv, b_conv, key=('Chr', 'Pos'))\n",
      "ab_merge.display(caption='ab_merge', \n",
      "                 td_styles=lambda v: highlight if isinstance(v, etl.Conflict) else '')"
     ],
     "language": "python",
     "metadata": {},
     "outputs": [
      {
       "html": [
        "<table class='petl'>\r\n",
        "<caption>ab_merge</caption>\r\n",
        "<thead>\r\n",
        "<tr>\r\n",
        "<th>Chr</th>\r\n",
        "<th>Pos</th>\r\n",
        "<th>Ref</th>\r\n",
        "<th>Nref</th>\r\n",
        "<th>Der</th>\r\n",
        "<th>Mut</th>\r\n",
        "<th>GeneId</th>\r\n",
        "<th>GeneAlias</th>\r\n",
        "<th>GeneDescr</th>\r\n",
        "</tr>\r\n",
        "</thead>\r\n",
        "<tbody>\r\n",
        "<tr>\r\n",
        "<td>MAL1</td>\r\n",
        "<td>91099</td>\r\n",
        "<td>G</td>\r\n",
        "<td>A</td>\r\n",
        "<td>-</td>\r\n",
        "<td>S</td>\r\n",
        "<td>PFA0095c</td>\r\n",
        "<td style='background-color: yellow'>Conflict({'MAL1P1.10', 'MAL1P1.10,RIF'})</td>\r\n",
        "<td>rifin</td>\r\n",
        "</tr>\r\n",
        "<tr>\r\n",
        "<td>MAL1</td>\r\n",
        "<td>91104</td>\r\n",
        "<td>A</td>\r\n",
        "<td>T</td>\r\n",
        "<td>-</td>\r\n",
        "<td>N</td>\r\n",
        "<td>PFA0095c</td>\r\n",
        "<td style='background-color: yellow'>Conflict({'MAL1P1.10', 'MAL1P1.10,RIF'})</td>\r\n",
        "<td>rifin</td>\r\n",
        "</tr>\r\n",
        "<tr>\r\n",
        "<td>MAL1</td>\r\n",
        "<td>93363</td>\r\n",
        "<td>T</td>\r\n",
        "<td>A</td>\r\n",
        "<td>-</td>\r\n",
        "<td>N</td>\r\n",
        "<td>PFA0100c</td>\r\n",
        "<td>MAL1P1.11</td>\r\n",
        "<td style='background-color: yellow'>Conflict({'Plasmodium exported protein (PHISTa), unknown function', 'hypothetical protein, conserved in P. falciparum'})</td>\r\n",
        "</tr>\r\n",
        "<tr>\r\n",
        "<td>MAL1</td>\r\n",
        "<td>93382</td>\r\n",
        "<td>T</td>\r\n",
        "<td>G</td>\r\n",
        "<td>-</td>\r\n",
        "<td>N</td>\r\n",
        "<td>PFA0100c</td>\r\n",
        "<td>MAL1P1.11</td>\r\n",
        "<td style='background-color: yellow'>Conflict({'Plasmodium exported protein (PHISTa), unknown function', 'hypothetical protein, conserved in P. falciparum'})</td>\r\n",
        "</tr>\r\n",
        "<tr>\r\n",
        "<td>MAL1</td>\r\n",
        "<td>93384</td>\r\n",
        "<td>G</td>\r\n",
        "<td>A</td>\r\n",
        "<td>-</td>\r\n",
        "<td>N</td>\r\n",
        "<td>PFA0100c</td>\r\n",
        "<td>MAL1P1.11</td>\r\n",
        "<td style='background-color: yellow'>Conflict({'Plasmodium exported protein (PHISTa), unknown function', 'hypothetical protein, conserved in P. falciparum'})</td>\r\n",
        "</tr>\r\n",
        "</tbody>\r\n",
        "</table>\r\n",
        "<p><strong>...</strong></p>"
       ],
       "metadata": {},
       "output_type": "display_data"
      }
     ],
     "prompt_number": 24
    },
    {
     "cell_type": "markdown",
     "metadata": {},
     "source": [
      "From a glance at the conflicts above, it appears there are\n",
      "discrepancies in the 'GeneAlias' and 'GeneDescr' fields. There may\n",
      "also be conflicts in other fields, so we need to investigate further.\n",
      "\n",
      "Note that the table ***ab_merge*** will contain all rows, not only those containing conflicts. To find only conflicting rows, use `cat()` then `conflicts()`, e.g.:"
     ]
    },
    {
     "cell_type": "code",
     "collapsed": false,
     "input": [
      "ab = etl.cat(a_conv.addfield('source', 'a', index=0), \n",
      "             b_conv.addfield('source', 'b', index=0))\n",
      "ab_conflicts = ab.conflicts(key=('Chr', 'Pos'), exclude='source')\n",
      "ab_conflicts.display(10)"
     ],
     "language": "python",
     "metadata": {},
     "outputs": [
      {
       "html": [
        "<table class='petl'>\r\n",
        "<thead>\r\n",
        "<tr>\r\n",
        "<th>source</th>\r\n",
        "<th>Chr</th>\r\n",
        "<th>Pos</th>\r\n",
        "<th>Ref</th>\r\n",
        "<th>Nref</th>\r\n",
        "<th>Der</th>\r\n",
        "<th>Mut</th>\r\n",
        "<th>GeneId</th>\r\n",
        "<th>GeneAlias</th>\r\n",
        "<th>GeneDescr</th>\r\n",
        "</tr>\r\n",
        "</thead>\r\n",
        "<tbody>\r\n",
        "<tr>\r\n",
        "<td>a</td>\r\n",
        "<td>MAL1</td>\r\n",
        "<td style='text-align: right'>91099</td>\r\n",
        "<td>G</td>\r\n",
        "<td>A</td>\r\n",
        "<td>-</td>\r\n",
        "<td>S</td>\r\n",
        "<td>PFA0095c</td>\r\n",
        "<td>MAL1P1.10</td>\r\n",
        "<td>rifin</td>\r\n",
        "</tr>\r\n",
        "<tr>\r\n",
        "<td>b</td>\r\n",
        "<td>MAL1</td>\r\n",
        "<td style='text-align: right'>91099</td>\r\n",
        "<td>G</td>\r\n",
        "<td>A</td>\r\n",
        "<td>-</td>\r\n",
        "<td>S</td>\r\n",
        "<td>PFA0095c</td>\r\n",
        "<td>MAL1P1.10,RIF</td>\r\n",
        "<td>rifin</td>\r\n",
        "</tr>\r\n",
        "<tr>\r\n",
        "<td>a</td>\r\n",
        "<td>MAL1</td>\r\n",
        "<td style='text-align: right'>91104</td>\r\n",
        "<td>A</td>\r\n",
        "<td>T</td>\r\n",
        "<td>-</td>\r\n",
        "<td>N</td>\r\n",
        "<td>PFA0095c</td>\r\n",
        "<td>MAL1P1.10</td>\r\n",
        "<td>rifin</td>\r\n",
        "</tr>\r\n",
        "<tr>\r\n",
        "<td>b</td>\r\n",
        "<td>MAL1</td>\r\n",
        "<td style='text-align: right'>91104</td>\r\n",
        "<td>A</td>\r\n",
        "<td>T</td>\r\n",
        "<td>-</td>\r\n",
        "<td>N</td>\r\n",
        "<td>PFA0095c</td>\r\n",
        "<td>MAL1P1.10,RIF</td>\r\n",
        "<td>rifin</td>\r\n",
        "</tr>\r\n",
        "<tr>\r\n",
        "<td>a</td>\r\n",
        "<td>MAL1</td>\r\n",
        "<td style='text-align: right'>93363</td>\r\n",
        "<td>T</td>\r\n",
        "<td>A</td>\r\n",
        "<td>-</td>\r\n",
        "<td>N</td>\r\n",
        "<td>PFA0100c</td>\r\n",
        "<td>MAL1P1.11</td>\r\n",
        "<td>hypothetical protein, conserved in P. falciparum</td>\r\n",
        "</tr>\r\n",
        "<tr>\r\n",
        "<td>b</td>\r\n",
        "<td>MAL1</td>\r\n",
        "<td style='text-align: right'>93363</td>\r\n",
        "<td>T</td>\r\n",
        "<td>A</td>\r\n",
        "<td>-</td>\r\n",
        "<td>N</td>\r\n",
        "<td>PFA0100c</td>\r\n",
        "<td>MAL1P1.11</td>\r\n",
        "<td>Plasmodium exported protein (PHISTa), unknown function</td>\r\n",
        "</tr>\r\n",
        "<tr>\r\n",
        "<td>a</td>\r\n",
        "<td>MAL1</td>\r\n",
        "<td style='text-align: right'>93382</td>\r\n",
        "<td>T</td>\r\n",
        "<td>G</td>\r\n",
        "<td>-</td>\r\n",
        "<td>N</td>\r\n",
        "<td>PFA0100c</td>\r\n",
        "<td>MAL1P1.11</td>\r\n",
        "<td>hypothetical protein, conserved in P. falciparum</td>\r\n",
        "</tr>\r\n",
        "<tr>\r\n",
        "<td>b</td>\r\n",
        "<td>MAL1</td>\r\n",
        "<td style='text-align: right'>93382</td>\r\n",
        "<td>T</td>\r\n",
        "<td>G</td>\r\n",
        "<td>-</td>\r\n",
        "<td>N</td>\r\n",
        "<td>PFA0100c</td>\r\n",
        "<td>MAL1P1.11</td>\r\n",
        "<td>Plasmodium exported protein (PHISTa), unknown function</td>\r\n",
        "</tr>\r\n",
        "<tr>\r\n",
        "<td>a</td>\r\n",
        "<td>MAL1</td>\r\n",
        "<td style='text-align: right'>93384</td>\r\n",
        "<td>G</td>\r\n",
        "<td>A</td>\r\n",
        "<td>-</td>\r\n",
        "<td>N</td>\r\n",
        "<td>PFA0100c</td>\r\n",
        "<td>MAL1P1.11</td>\r\n",
        "<td>hypothetical protein, conserved in P. falciparum</td>\r\n",
        "</tr>\r\n",
        "<tr>\r\n",
        "<td>b</td>\r\n",
        "<td>MAL1</td>\r\n",
        "<td style='text-align: right'>93384</td>\r\n",
        "<td>G</td>\r\n",
        "<td>A</td>\r\n",
        "<td>-</td>\r\n",
        "<td>N</td>\r\n",
        "<td>PFA0100c</td>\r\n",
        "<td>MAL1P1.11</td>\r\n",
        "<td>Plasmodium exported protein (PHISTa), unknown function</td>\r\n",
        "</tr>\r\n",
        "</tbody>\r\n",
        "</table>\r\n",
        "<p><strong>...</strong></p>"
       ],
       "metadata": {},
       "output_type": "display_data"
      }
     ],
     "prompt_number": 25
    },
    {
     "cell_type": "markdown",
     "metadata": {},
     "source": [
      "Finally, let's find conflicts in a specific field:"
     ]
    },
    {
     "cell_type": "code",
     "collapsed": false,
     "input": [
      "ab_conflicts_mut = ab.conflicts(key=('Chr', 'Pos'), include='Mut')\n",
      "ab_conflicts_mut.display(10, caption='Mut conflicts', td_styles={'Mut': highlight})"
     ],
     "language": "python",
     "metadata": {},
     "outputs": [
      {
       "html": [
        "<table class='petl'>\r\n",
        "<caption>Mut conflicts</caption>\r\n",
        "<thead>\r\n",
        "<tr>\r\n",
        "<th>source</th>\r\n",
        "<th>Chr</th>\r\n",
        "<th>Pos</th>\r\n",
        "<th>Ref</th>\r\n",
        "<th>Nref</th>\r\n",
        "<th>Der</th>\r\n",
        "<th>Mut</th>\r\n",
        "<th>GeneId</th>\r\n",
        "<th>GeneAlias</th>\r\n",
        "<th>GeneDescr</th>\r\n",
        "</tr>\r\n",
        "</thead>\r\n",
        "<tbody>\r\n",
        "<tr>\r\n",
        "<td>a</td>\r\n",
        "<td>MAL1</td>\r\n",
        "<td style='text-align: right'>99099</td>\r\n",
        "<td>G</td>\r\n",
        "<td>T</td>\r\n",
        "<td>-</td>\r\n",
        "<td style='background-color: yellow'>-</td>\r\n",
        "<td>PFA0110w</td>\r\n",
        "<td>MAL1P1.13,Pf155</td>\r\n",
        "<td>ring-infected erythrocyte surface antigen</td>\r\n",
        "</tr>\r\n",
        "<tr>\r\n",
        "<td>b</td>\r\n",
        "<td>MAL1</td>\r\n",
        "<td style='text-align: right'>99099</td>\r\n",
        "<td>G</td>\r\n",
        "<td>T</td>\r\n",
        "<td>-</td>\r\n",
        "<td style='background-color: yellow'>N</td>\r\n",
        "<td>PFA0110w</td>\r\n",
        "<td>MAL1P1.13,Pf155,RESA</td>\r\n",
        "<td>ring-infected erythrocyte surface antigen</td>\r\n",
        "</tr>\r\n",
        "<tr>\r\n",
        "<td>a</td>\r\n",
        "<td>MAL1</td>\r\n",
        "<td style='text-align: right'>99211</td>\r\n",
        "<td>C</td>\r\n",
        "<td>T</td>\r\n",
        "<td>-</td>\r\n",
        "<td style='background-color: yellow'>-</td>\r\n",
        "<td>PFA0110w</td>\r\n",
        "<td>MAL1P1.13,Pf155</td>\r\n",
        "<td>ring-infected erythrocyte surface antigen</td>\r\n",
        "</tr>\r\n",
        "<tr>\r\n",
        "<td>b</td>\r\n",
        "<td>MAL1</td>\r\n",
        "<td style='text-align: right'>99211</td>\r\n",
        "<td>C</td>\r\n",
        "<td>T</td>\r\n",
        "<td>-</td>\r\n",
        "<td style='background-color: yellow'>N</td>\r\n",
        "<td>PFA0110w</td>\r\n",
        "<td>MAL1P1.13,Pf155,RESA</td>\r\n",
        "<td>ring-infected erythrocyte surface antigen</td>\r\n",
        "</tr>\r\n",
        "<tr>\r\n",
        "<td>a</td>\r\n",
        "<td>MAL1</td>\r\n",
        "<td style='text-align: right'>197903</td>\r\n",
        "<td>C</td>\r\n",
        "<td>A</td>\r\n",
        "<td>A</td>\r\n",
        "<td style='background-color: yellow'>S</td>\r\n",
        "<td>PFA0220w</td>\r\n",
        "<td>MAL1P1.34b</td>\r\n",
        "<td>ubiquitin carboxyl-terminal hydrolase, putative</td>\r\n",
        "</tr>\r\n",
        "<tr>\r\n",
        "<td>b</td>\r\n",
        "<td>MAL1</td>\r\n",
        "<td style='text-align: right'>197903</td>\r\n",
        "<td>C</td>\r\n",
        "<td>A</td>\r\n",
        "<td>A</td>\r\n",
        "<td style='background-color: yellow'>N</td>\r\n",
        "<td>PFA0220w</td>\r\n",
        "<td>PFA0215w,MAL1P1.34b</td>\r\n",
        "<td>ubiquitin carboxyl-terminal hydrolase, putative</td>\r\n",
        "</tr>\r\n",
        "<tr>\r\n",
        "<td>a</td>\r\n",
        "<td>MAL1</td>\r\n",
        "<td style='text-align: right'>384429</td>\r\n",
        "<td>C</td>\r\n",
        "<td>T</td>\r\n",
        "<td>-</td>\r\n",
        "<td style='background-color: yellow'>N</td>\r\n",
        "<td>PFA0485w</td>\r\n",
        "<td>MAL1P2.26</td>\r\n",
        "<td>dolichol kinase</td>\r\n",
        "</tr>\r\n",
        "<tr>\r\n",
        "<td>b</td>\r\n",
        "<td>MAL1</td>\r\n",
        "<td style='text-align: right'>384429</td>\r\n",
        "<td>C</td>\r\n",
        "<td>T</td>\r\n",
        "<td>-</td>\r\n",
        "<td style='background-color: yellow'>S</td>\r\n",
        "<td>-</td>\r\n",
        "<td>-</td>\r\n",
        "<td>-</td>\r\n",
        "</tr>\r\n",
        "<tr>\r\n",
        "<td>a</td>\r\n",
        "<td>MAL1</td>\r\n",
        "<td style='text-align: right'>513268</td>\r\n",
        "<td>A</td>\r\n",
        "<td>G</td>\r\n",
        "<td>-</td>\r\n",
        "<td style='background-color: yellow'>N</td>\r\n",
        "<td>PFA0650w</td>\r\n",
        "<td>MAL1P3.12,MAL1P3.12a,PFA0655w</td>\r\n",
        "<td>surface-associated interspersed gene pseudogene, (SURFIN) pseudogene</td>\r\n",
        "</tr>\r\n",
        "<tr>\r\n",
        "<td>b</td>\r\n",
        "<td>MAL1</td>\r\n",
        "<td style='text-align: right'>513268</td>\r\n",
        "<td>A</td>\r\n",
        "<td>G</td>\r\n",
        "<td>-</td>\r\n",
        "<td style='background-color: yellow'>S</td>\r\n",
        "<td>PFA0650w</td>\r\n",
        "<td>MAL1P3.12,PFA0655,MAL1P3.12a,3D7surf1.2,PFA0655w,MAL1P12a</td>\r\n",
        "<td>surface-associated interspersed gene (SURFIN), pseudogene</td>\r\n",
        "</tr>\r\n",
        "</tbody>\r\n",
        "</table>\r\n",
        "<p><strong>...</strong></p>"
       ],
       "metadata": {},
       "output_type": "display_data"
      }
     ],
     "prompt_number": 26
    },
    {
     "cell_type": "code",
     "collapsed": false,
     "input": [
      "ab_conflicts_mut.nrows()"
     ],
     "language": "python",
     "metadata": {},
     "outputs": [
      {
       "metadata": {},
       "output_type": "pyout",
       "prompt_number": 27,
       "text": [
        "3592"
       ]
      }
     ],
     "prompt_number": 27
    },
    {
     "cell_type": "markdown",
     "metadata": {},
     "source": [
      "For more information about the `petl` package see the [petl online documentation](http://petl.readthedocs.org)."
     ]
    }
   ],
   "metadata": {}
  }
 ]
}