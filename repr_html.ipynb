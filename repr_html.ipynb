{
 "metadata": {
  "name": "",
  "signature": "sha256:56c8d586e7221e0b61bad8daeb957e8e283d7b18725b67d1bfaca2d4c4a33ef1"
 },
 "nbformat": 3,
 "nbformat_minor": 0,
 "worksheets": [
  {
   "cells": [
    {
     "cell_type": "code",
     "collapsed": false,
     "input": [
      "import petl as etl"
     ],
     "language": "python",
     "metadata": {},
     "outputs": [],
     "prompt_number": 1
    },
    {
     "cell_type": "code",
     "collapsed": false,
     "input": [
      "etl.dummytable()"
     ],
     "language": "python",
     "metadata": {},
     "outputs": [
      {
       "html": [
        "<table class='petl'>\r\n",
        "<thead>\r\n",
        "<tr>\r\n",
        "<th>0|foo</th>\r\n",
        "<th>1|bar</th>\r\n",
        "<th>2|baz</th>\r\n",
        "</tr>\r\n",
        "</thead>\r\n",
        "<tbody>\r\n",
        "<tr>\r\n",
        "<td style='text-align: right'>95</td>\r\n",
        "<td>apples</td>\r\n",
        "<td style='text-align: right'>0.004323475861857995</td>\r\n",
        "</tr>\r\n",
        "<tr>\r\n",
        "<td style='text-align: right'>13</td>\r\n",
        "<td>pears</td>\r\n",
        "<td style='text-align: right'>0.8131712316857224</td>\r\n",
        "</tr>\r\n",
        "<tr>\r\n",
        "<td style='text-align: right'>60</td>\r\n",
        "<td>oranges</td>\r\n",
        "<td style='text-align: right'>0.8778254369527804</td>\r\n",
        "</tr>\r\n",
        "<tr>\r\n",
        "<td style='text-align: right'>5</td>\r\n",
        "<td>pears</td>\r\n",
        "<td style='text-align: right'>0.606299319851772</td>\r\n",
        "</tr>\r\n",
        "<tr>\r\n",
        "<td style='text-align: right'>33</td>\r\n",
        "<td>pears</td>\r\n",
        "<td style='text-align: right'>0.5730887072366059</td>\r\n",
        "</tr>\r\n",
        "</tbody>\r\n",
        "</table>\r\n",
        "<p><strong>...</strong></p>"
       ],
       "metadata": {},
       "output_type": "pyout",
       "prompt_number": 2,
       "text": [
        "+-------+-----------+----------------------+\n",
        "| 0|foo | 1|bar     | 2|baz                |\n",
        "+=======+===========+======================+\n",
        "|    95 | 'apples'  | 0.004323475861857995 |\n",
        "+-------+-----------+----------------------+\n",
        "|    13 | 'pears'   |   0.8131712316857224 |\n",
        "+-------+-----------+----------------------+\n",
        "|    60 | 'oranges' |   0.8778254369527804 |\n",
        "+-------+-----------+----------------------+\n",
        "|     5 | 'pears'   |    0.606299319851772 |\n",
        "+-------+-----------+----------------------+\n",
        "|    33 | 'pears'   |   0.5730887072366059 |\n",
        "+-------+-----------+----------------------+\n",
        "..."
       ]
      }
     ],
     "prompt_number": 2
    },
    {
     "cell_type": "code",
     "collapsed": false,
     "input": [
      "tbl = ((u'name', u'id'),\n",
      "       (u'\u0531\u0580\u0561\u0574 \u053d\u0561\u0579\u0561\u057f\u0580\u0575\u0561\u0576', 1),\n",
      "       (u'Johann Strau\u00df', 2),\n",
      "       (u'\u0412\u0430\u0433\u0438\u0444 \u0421\u04d9\u043c\u04d9\u0434\u043e\u0493\u043b\u0443', 3),\n",
      "       (u'\u7ae0\u5b50\u6021', 4),\n",
      "       (u'\u0531\u0580\u0561\u0574 \u053d\u0561\u0579\u0561\u057f\u0580\u0575\u0561\u0576', 1),\n",
      "       (u'Johann Strau\u00df', 2),\n",
      "       (u'\u0412\u0430\u0433\u0438\u0444 \u0421\u04d9\u043c\u04d9\u0434\u043e\u0493\u043b\u0443', 3),\n",
      "       (u'\u7ae0\u5b50\u6021', 4))\n",
      "tbl"
     ],
     "language": "python",
     "metadata": {},
     "outputs": [
      {
       "metadata": {},
       "output_type": "pyout",
       "prompt_number": 5,
       "text": [
        "(('name', 'id'),\n",
        " ('\u0531\u0580\u0561\u0574 \u053d\u0561\u0579\u0561\u057f\u0580\u0575\u0561\u0576', 1),\n",
        " ('Johann Strau\u00df', 2),\n",
        " ('\u0412\u0430\u0433\u0438\u0444 \u0421\u04d9\u043c\u04d9\u0434\u043e\u0493\u043b\u0443', 3),\n",
        " ('\u7ae0\u5b50\u6021', 4),\n",
        " ('\u0531\u0580\u0561\u0574 \u053d\u0561\u0579\u0561\u057f\u0580\u0575\u0561\u0576', 1),\n",
        " ('Johann Strau\u00df', 2),\n",
        " ('\u0412\u0430\u0433\u0438\u0444 \u0421\u04d9\u043c\u04d9\u0434\u043e\u0493\u043b\u0443', 3),\n",
        " ('\u7ae0\u5b50\u6021', 4))"
       ]
      }
     ],
     "prompt_number": 5
    },
    {
     "cell_type": "code",
     "collapsed": false,
     "input": [
      "etl.wrap(tbl)"
     ],
     "language": "python",
     "metadata": {},
     "outputs": [
      {
       "html": [
        "<table class='petl'>\r\n",
        "<thead>\r\n",
        "<tr>\r\n",
        "<th>0|name</th>\r\n",
        "<th>1|id</th>\r\n",
        "</tr>\r\n",
        "</thead>\r\n",
        "<tbody>\r\n",
        "<tr>\r\n",
        "<td>\u0531\u0580\u0561\u0574 \u053d\u0561\u0579\u0561\u057f\u0580\u0575\u0561\u0576</td>\r\n",
        "<td style='text-align: right'>1</td>\r\n",
        "</tr>\r\n",
        "<tr>\r\n",
        "<td>Johann Strau\u00df</td>\r\n",
        "<td style='text-align: right'>2</td>\r\n",
        "</tr>\r\n",
        "<tr>\r\n",
        "<td>\u0412\u0430\u0433\u0438\u0444 \u0421\u04d9\u043c\u04d9\u0434\u043e\u0493\u043b\u0443</td>\r\n",
        "<td style='text-align: right'>3</td>\r\n",
        "</tr>\r\n",
        "<tr>\r\n",
        "<td>\u7ae0\u5b50\u6021</td>\r\n",
        "<td style='text-align: right'>4</td>\r\n",
        "</tr>\r\n",
        "<tr>\r\n",
        "<td>\u0531\u0580\u0561\u0574 \u053d\u0561\u0579\u0561\u057f\u0580\u0575\u0561\u0576</td>\r\n",
        "<td style='text-align: right'>1</td>\r\n",
        "</tr>\r\n",
        "</tbody>\r\n",
        "</table>\r\n",
        "<p><strong>...</strong></p>"
       ],
       "metadata": {},
       "output_type": "pyout",
       "prompt_number": 6,
       "text": [
        "+-------------------+------+\n",
        "| 0|name            | 1|id |\n",
        "+===================+======+\n",
        "| '\u0531\u0580\u0561\u0574 \u053d\u0561\u0579\u0561\u057f\u0580\u0575\u0561\u0576'  |    1 |\n",
        "+-------------------+------+\n",
        "| 'Johann Strau\u00df'   |    2 |\n",
        "+-------------------+------+\n",
        "| '\u0412\u0430\u0433\u0438\u0444 \u0421\u04d9\u043c\u04d9\u0434\u043e\u0493\u043b\u0443' |    3 |\n",
        "+-------------------+------+\n",
        "| '\u7ae0\u5b50\u6021'             |    4 |\n",
        "+-------------------+------+\n",
        "| '\u0531\u0580\u0561\u0574 \u053d\u0561\u0579\u0561\u057f\u0580\u0575\u0561\u0576'  |    1 |\n",
        "+-------------------+------+\n",
        "..."
       ]
      }
     ],
     "prompt_number": 6
    },
    {
     "cell_type": "code",
     "collapsed": false,
     "input": [],
     "language": "python",
     "metadata": {},
     "outputs": []
    }
   ],
   "metadata": {}
  }
 ]
}