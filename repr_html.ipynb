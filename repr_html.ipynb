{
 "metadata": {
  "name": "",
  "signature": "sha256:edf88b4f649c32b7d809bef1d0a9fde0fad5a7df9394559c0a3677e79aa5d71d"
 },
 "nbformat": 3,
 "nbformat_minor": 0,
 "worksheets": [
  {
   "cells": [
    {
     "cell_type": "code",
     "collapsed": false,
     "input": [
      "import sys\n",
      "sys.version_info"
     ],
     "language": "python",
     "metadata": {},
     "outputs": [
      {
       "metadata": {},
       "output_type": "pyout",
       "prompt_number": 1,
       "text": [
        "sys.version_info(major=3, minor=4, micro=2, releaselevel='final', serial=0)"
       ]
      }
     ],
     "prompt_number": 1
    },
    {
     "cell_type": "code",
     "collapsed": false,
     "input": [
      "import petl as etl\n",
      "etl.__version__"
     ],
     "language": "python",
     "metadata": {},
     "outputs": [
      {
       "metadata": {},
       "output_type": "pyout",
       "prompt_number": 2,
       "text": [
        "'1.0a1.dev0'"
       ]
      }
     ],
     "prompt_number": 2
    },
    {
     "cell_type": "code",
     "collapsed": false,
     "input": [
      "tbl = etl.dummytable(10, seed=42)\n",
      "tbl"
     ],
     "language": "python",
     "metadata": {},
     "outputs": [
      {
       "html": [
        "<table class='petl'>\r\n",
        "<thead>\r\n",
        "<tr>\r\n",
        "<th>0|foo</th>\r\n",
        "<th>1|bar</th>\r\n",
        "<th>2|baz</th>\r\n",
        "</tr>\r\n",
        "</thead>\r\n",
        "<tbody>\r\n",
        "<tr>\r\n",
        "<td style='text-align: right'>81</td>\r\n",
        "<td>apples</td>\r\n",
        "<td style='text-align: right'>0.025010755222666936</td>\r\n",
        "</tr>\r\n",
        "<tr>\r\n",
        "<td style='text-align: right'>35</td>\r\n",
        "<td>pears</td>\r\n",
        "<td style='text-align: right'>0.22321073814882275</td>\r\n",
        "</tr>\r\n",
        "<tr>\r\n",
        "<td style='text-align: right'>94</td>\r\n",
        "<td>apples</td>\r\n",
        "<td style='text-align: right'>0.6766994874229113</td>\r\n",
        "</tr>\r\n",
        "<tr>\r\n",
        "<td style='text-align: right'>69</td>\r\n",
        "<td>apples</td>\r\n",
        "<td style='text-align: right'>0.5904925124490397</td>\r\n",
        "</tr>\r\n",
        "<tr>\r\n",
        "<td style='text-align: right'>4</td>\r\n",
        "<td>apples</td>\r\n",
        "<td style='text-align: right'>0.09369523986159245</td>\r\n",
        "</tr>\r\n",
        "</tbody>\r\n",
        "</table>\r\n",
        "<p><strong>...</strong></p>"
       ],
       "metadata": {},
       "output_type": "pyout",
       "prompt_number": 3,
       "text": [
        "+-------+----------+----------------------+\n",
        "| 0|foo | 1|bar    | 2|baz                |\n",
        "+=======+==========+======================+\n",
        "|    81 | 'apples' | 0.025010755222666936 |\n",
        "+-------+----------+----------------------+\n",
        "|    35 | 'pears'  |  0.22321073814882275 |\n",
        "+-------+----------+----------------------+\n",
        "|    94 | 'apples' |   0.6766994874229113 |\n",
        "+-------+----------+----------------------+\n",
        "|    69 | 'apples' |   0.5904925124490397 |\n",
        "+-------+----------+----------------------+\n",
        "|     4 | 'apples' |  0.09369523986159245 |\n",
        "+-------+----------+----------------------+\n",
        "..."
       ]
      }
     ],
     "prompt_number": 3
    },
    {
     "cell_type": "code",
     "collapsed": false,
     "input": [
      "tbl.display(2)"
     ],
     "language": "python",
     "metadata": {},
     "outputs": [
      {
       "html": [
        "<table class='petl'>\r\n",
        "<thead>\r\n",
        "<tr>\r\n",
        "<th>foo</th>\r\n",
        "<th>bar</th>\r\n",
        "<th>baz</th>\r\n",
        "</tr>\r\n",
        "</thead>\r\n",
        "<tbody>\r\n",
        "<tr>\r\n",
        "<td style='text-align: right'>81</td>\r\n",
        "<td>apples</td>\r\n",
        "<td style='text-align: right'>0.025010755222666936</td>\r\n",
        "</tr>\r\n",
        "<tr>\r\n",
        "<td style='text-align: right'>35</td>\r\n",
        "<td>pears</td>\r\n",
        "<td style='text-align: right'>0.22321073814882275</td>\r\n",
        "</tr>\r\n",
        "</tbody>\r\n",
        "</table>\r\n",
        "<p><strong>...</strong></p>"
       ],
       "metadata": {},
       "output_type": "display_data"
      }
     ],
     "prompt_number": 4
    },
    {
     "cell_type": "code",
     "collapsed": false,
     "input": [
      "tbl.displayall()"
     ],
     "language": "python",
     "metadata": {},
     "outputs": [
      {
       "html": [
        "<table class='petl'>\r\n",
        "<thead>\r\n",
        "<tr>\r\n",
        "<th>foo</th>\r\n",
        "<th>bar</th>\r\n",
        "<th>baz</th>\r\n",
        "</tr>\r\n",
        "</thead>\r\n",
        "<tbody>\r\n",
        "<tr>\r\n",
        "<td style='text-align: right'>81</td>\r\n",
        "<td>apples</td>\r\n",
        "<td style='text-align: right'>0.025010755222666936</td>\r\n",
        "</tr>\r\n",
        "<tr>\r\n",
        "<td style='text-align: right'>35</td>\r\n",
        "<td>pears</td>\r\n",
        "<td style='text-align: right'>0.22321073814882275</td>\r\n",
        "</tr>\r\n",
        "<tr>\r\n",
        "<td style='text-align: right'>94</td>\r\n",
        "<td>apples</td>\r\n",
        "<td style='text-align: right'>0.6766994874229113</td>\r\n",
        "</tr>\r\n",
        "<tr>\r\n",
        "<td style='text-align: right'>69</td>\r\n",
        "<td>apples</td>\r\n",
        "<td style='text-align: right'>0.5904925124490397</td>\r\n",
        "</tr>\r\n",
        "<tr>\r\n",
        "<td style='text-align: right'>4</td>\r\n",
        "<td>apples</td>\r\n",
        "<td style='text-align: right'>0.09369523986159245</td>\r\n",
        "</tr>\r\n",
        "<tr>\r\n",
        "<td style='text-align: right'>29</td>\r\n",
        "<td>apples</td>\r\n",
        "<td style='text-align: right'>0.561245062938613</td>\r\n",
        "</tr>\r\n",
        "<tr>\r\n",
        "<td style='text-align: right'>91</td>\r\n",
        "<td>oranges</td>\r\n",
        "<td style='text-align: right'>0.2204406220406967</td>\r\n",
        "</tr>\r\n",
        "<tr>\r\n",
        "<td style='text-align: right'>75</td>\r\n",
        "<td>bananas</td>\r\n",
        "<td style='text-align: right'>0.8094304566778266</td>\r\n",
        "</tr>\r\n",
        "<tr>\r\n",
        "<td style='text-align: right'>0</td>\r\n",
        "<td>pears</td>\r\n",
        "<td style='text-align: right'>0.6981393949882269</td>\r\n",
        "</tr>\r\n",
        "<tr>\r\n",
        "<td style='text-align: right'>43</td>\r\n",
        "<td>bananas</td>\r\n",
        "<td style='text-align: right'>0.15547949981178155</td>\r\n",
        "</tr>\r\n",
        "</tbody>\r\n",
        "</table>\r\n"
       ],
       "metadata": {},
       "output_type": "display_data"
      }
     ],
     "prompt_number": 5
    },
    {
     "cell_type": "code",
     "collapsed": false,
     "input": [
      "tbl.display()\n",
      "tbl.display()"
     ],
     "language": "python",
     "metadata": {},
     "outputs": [
      {
       "html": [
        "<table class='petl'>\r\n",
        "<thead>\r\n",
        "<tr>\r\n",
        "<th>foo</th>\r\n",
        "<th>bar</th>\r\n",
        "<th>baz</th>\r\n",
        "</tr>\r\n",
        "</thead>\r\n",
        "<tbody>\r\n",
        "<tr>\r\n",
        "<td style='text-align: right'>81</td>\r\n",
        "<td>apples</td>\r\n",
        "<td style='text-align: right'>0.025010755222666936</td>\r\n",
        "</tr>\r\n",
        "<tr>\r\n",
        "<td style='text-align: right'>35</td>\r\n",
        "<td>pears</td>\r\n",
        "<td style='text-align: right'>0.22321073814882275</td>\r\n",
        "</tr>\r\n",
        "<tr>\r\n",
        "<td style='text-align: right'>94</td>\r\n",
        "<td>apples</td>\r\n",
        "<td style='text-align: right'>0.6766994874229113</td>\r\n",
        "</tr>\r\n",
        "<tr>\r\n",
        "<td style='text-align: right'>69</td>\r\n",
        "<td>apples</td>\r\n",
        "<td style='text-align: right'>0.5904925124490397</td>\r\n",
        "</tr>\r\n",
        "<tr>\r\n",
        "<td style='text-align: right'>4</td>\r\n",
        "<td>apples</td>\r\n",
        "<td style='text-align: right'>0.09369523986159245</td>\r\n",
        "</tr>\r\n",
        "</tbody>\r\n",
        "</table>\r\n",
        "<p><strong>...</strong></p>"
       ],
       "metadata": {},
       "output_type": "display_data"
      },
      {
       "html": [
        "<table class='petl'>\r\n",
        "<thead>\r\n",
        "<tr>\r\n",
        "<th>foo</th>\r\n",
        "<th>bar</th>\r\n",
        "<th>baz</th>\r\n",
        "</tr>\r\n",
        "</thead>\r\n",
        "<tbody>\r\n",
        "<tr>\r\n",
        "<td style='text-align: right'>81</td>\r\n",
        "<td>apples</td>\r\n",
        "<td style='text-align: right'>0.025010755222666936</td>\r\n",
        "</tr>\r\n",
        "<tr>\r\n",
        "<td style='text-align: right'>35</td>\r\n",
        "<td>pears</td>\r\n",
        "<td style='text-align: right'>0.22321073814882275</td>\r\n",
        "</tr>\r\n",
        "<tr>\r\n",
        "<td style='text-align: right'>94</td>\r\n",
        "<td>apples</td>\r\n",
        "<td style='text-align: right'>0.6766994874229113</td>\r\n",
        "</tr>\r\n",
        "<tr>\r\n",
        "<td style='text-align: right'>69</td>\r\n",
        "<td>apples</td>\r\n",
        "<td style='text-align: right'>0.5904925124490397</td>\r\n",
        "</tr>\r\n",
        "<tr>\r\n",
        "<td style='text-align: right'>4</td>\r\n",
        "<td>apples</td>\r\n",
        "<td style='text-align: right'>0.09369523986159245</td>\r\n",
        "</tr>\r\n",
        "</tbody>\r\n",
        "</table>\r\n",
        "<p><strong>...</strong></p>"
       ],
       "metadata": {},
       "output_type": "display_data"
      }
     ],
     "prompt_number": 6
    },
    {
     "cell_type": "code",
     "collapsed": false,
     "input": [
      "tbl.display(caption='example data')"
     ],
     "language": "python",
     "metadata": {},
     "outputs": [
      {
       "html": [
        "<table class='petl'>\r\n",
        "<caption>example data</caption>\r\n",
        "<thead>\r\n",
        "<tr>\r\n",
        "<th>foo</th>\r\n",
        "<th>bar</th>\r\n",
        "<th>baz</th>\r\n",
        "</tr>\r\n",
        "</thead>\r\n",
        "<tbody>\r\n",
        "<tr>\r\n",
        "<td style='text-align: right'>81</td>\r\n",
        "<td>apples</td>\r\n",
        "<td style='text-align: right'>0.025010755222666936</td>\r\n",
        "</tr>\r\n",
        "<tr>\r\n",
        "<td style='text-align: right'>35</td>\r\n",
        "<td>pears</td>\r\n",
        "<td style='text-align: right'>0.22321073814882275</td>\r\n",
        "</tr>\r\n",
        "<tr>\r\n",
        "<td style='text-align: right'>94</td>\r\n",
        "<td>apples</td>\r\n",
        "<td style='text-align: right'>0.6766994874229113</td>\r\n",
        "</tr>\r\n",
        "<tr>\r\n",
        "<td style='text-align: right'>69</td>\r\n",
        "<td>apples</td>\r\n",
        "<td style='text-align: right'>0.5904925124490397</td>\r\n",
        "</tr>\r\n",
        "<tr>\r\n",
        "<td style='text-align: right'>4</td>\r\n",
        "<td>apples</td>\r\n",
        "<td style='text-align: right'>0.09369523986159245</td>\r\n",
        "</tr>\r\n",
        "</tbody>\r\n",
        "</table>\r\n",
        "<p><strong>...</strong></p>"
       ],
       "metadata": {},
       "output_type": "display_data"
      }
     ],
     "prompt_number": 7
    },
    {
     "cell_type": "code",
     "collapsed": false,
     "input": [
      "tbl.display(tr_style=lambda row: 'background-color: %s' % ('#faa' if row.foo > 50 else 'white'))"
     ],
     "language": "python",
     "metadata": {},
     "outputs": [
      {
       "html": [
        "<table class='petl'>\r\n",
        "<thead>\r\n",
        "<tr>\r\n",
        "<th>foo</th>\r\n",
        "<th>bar</th>\r\n",
        "<th>baz</th>\r\n",
        "</tr>\r\n",
        "</thead>\r\n",
        "<tbody>\r\n",
        "<tr style='background-color: #faa'>\r\n",
        "<td style='text-align: right'>81</td>\r\n",
        "<td>apples</td>\r\n",
        "<td style='text-align: right'>0.025010755222666936</td>\r\n",
        "</tr>\r\n",
        "<tr style='background-color: white'>\r\n",
        "<td style='text-align: right'>35</td>\r\n",
        "<td>pears</td>\r\n",
        "<td style='text-align: right'>0.22321073814882275</td>\r\n",
        "</tr>\r\n",
        "<tr style='background-color: #faa'>\r\n",
        "<td style='text-align: right'>94</td>\r\n",
        "<td>apples</td>\r\n",
        "<td style='text-align: right'>0.6766994874229113</td>\r\n",
        "</tr>\r\n",
        "<tr style='background-color: #faa'>\r\n",
        "<td style='text-align: right'>69</td>\r\n",
        "<td>apples</td>\r\n",
        "<td style='text-align: right'>0.5904925124490397</td>\r\n",
        "</tr>\r\n",
        "<tr style='background-color: white'>\r\n",
        "<td style='text-align: right'>4</td>\r\n",
        "<td>apples</td>\r\n",
        "<td style='text-align: right'>0.09369523986159245</td>\r\n",
        "</tr>\r\n",
        "</tbody>\r\n",
        "</table>\r\n",
        "<p><strong>...</strong></p>"
       ],
       "metadata": {},
       "output_type": "display_data"
      }
     ],
     "prompt_number": 8
    },
    {
     "cell_type": "code",
     "collapsed": false,
     "input": [
      "tbl.display(tr_style='font-size: .8em',\n",
      "            td_styles={'bar': 'background-color: yellow',\n",
      "                       'baz': lambda v: 'background-color: %s' % ('#faa' if v > .5 else '#aaf')})"
     ],
     "language": "python",
     "metadata": {},
     "outputs": [
      {
       "html": [
        "<table class='petl'>\r\n",
        "<thead>\r\n",
        "<tr>\r\n",
        "<th>foo</th>\r\n",
        "<th>bar</th>\r\n",
        "<th>baz</th>\r\n",
        "</tr>\r\n",
        "</thead>\r\n",
        "<tbody>\r\n",
        "<tr style='font-size: .8em'>\r\n",
        "<td style='text-align: right'>81</td>\r\n",
        "<td style='background-color: yellow'>apples</td>\r\n",
        "<td style='background-color: #aaf'>0.025010755222666936</td>\r\n",
        "</tr>\r\n",
        "<tr style='font-size: .8em'>\r\n",
        "<td style='text-align: right'>35</td>\r\n",
        "<td style='background-color: yellow'>pears</td>\r\n",
        "<td style='background-color: #aaf'>0.22321073814882275</td>\r\n",
        "</tr>\r\n",
        "<tr style='font-size: .8em'>\r\n",
        "<td style='text-align: right'>94</td>\r\n",
        "<td style='background-color: yellow'>apples</td>\r\n",
        "<td style='background-color: #faa'>0.6766994874229113</td>\r\n",
        "</tr>\r\n",
        "<tr style='font-size: .8em'>\r\n",
        "<td style='text-align: right'>69</td>\r\n",
        "<td style='background-color: yellow'>apples</td>\r\n",
        "<td style='background-color: #faa'>0.5904925124490397</td>\r\n",
        "</tr>\r\n",
        "<tr style='font-size: .8em'>\r\n",
        "<td style='text-align: right'>4</td>\r\n",
        "<td style='background-color: yellow'>apples</td>\r\n",
        "<td style='background-color: #aaf'>0.09369523986159245</td>\r\n",
        "</tr>\r\n",
        "</tbody>\r\n",
        "</table>\r\n",
        "<p><strong>...</strong></p>"
       ],
       "metadata": {},
       "output_type": "display_data"
      }
     ],
     "prompt_number": 9
    },
    {
     "cell_type": "code",
     "collapsed": false,
     "input": [
      "t = ((u'name', u'id'),\n",
      "     (u'\u0531\u0580\u0561\u0574 \u053d\u0561\u0579\u0561\u057f\u0580\u0575\u0561\u0576', 1),\n",
      "     (u'Johann Strau\u00df', 2),\n",
      "     (u'\u0412\u0430\u0433\u0438\u0444 \u0421\u04d9\u043c\u04d9\u0434\u043e\u0493\u043b\u0443', 3),\n",
      "     (u'\u7ae0\u5b50\u6021', 4),\n",
      "     (u'\u0531\u0580\u0561\u0574 \u053d\u0561\u0579\u0561\u057f\u0580\u0575\u0561\u0576', 1),\n",
      "     (u'Johann Strau\u00df', 2),\n",
      "     (u'\u0412\u0430\u0433\u0438\u0444 \u0421\u04d9\u043c\u04d9\u0434\u043e\u0493\u043b\u0443', 3),\n",
      "     (u'\u7ae0\u5b50\u6021', 4))\n",
      "t"
     ],
     "language": "python",
     "metadata": {},
     "outputs": [
      {
       "metadata": {},
       "output_type": "pyout",
       "prompt_number": 10,
       "text": [
        "(('name', 'id'),\n",
        " ('\u0531\u0580\u0561\u0574 \u053d\u0561\u0579\u0561\u057f\u0580\u0575\u0561\u0576', 1),\n",
        " ('Johann Strau\u00df', 2),\n",
        " ('\u0412\u0430\u0433\u0438\u0444 \u0421\u04d9\u043c\u04d9\u0434\u043e\u0493\u043b\u0443', 3),\n",
        " ('\u7ae0\u5b50\u6021', 4),\n",
        " ('\u0531\u0580\u0561\u0574 \u053d\u0561\u0579\u0561\u057f\u0580\u0575\u0561\u0576', 1),\n",
        " ('Johann Strau\u00df', 2),\n",
        " ('\u0412\u0430\u0433\u0438\u0444 \u0421\u04d9\u043c\u04d9\u0434\u043e\u0493\u043b\u0443', 3),\n",
        " ('\u7ae0\u5b50\u6021', 4))"
       ]
      }
     ],
     "prompt_number": 10
    },
    {
     "cell_type": "code",
     "collapsed": false,
     "input": [
      "tbl2 = etl.wrap(t)\n",
      "tbl2"
     ],
     "language": "python",
     "metadata": {},
     "outputs": [
      {
       "html": [
        "<table class='petl'>\r\n",
        "<thead>\r\n",
        "<tr>\r\n",
        "<th>0|name</th>\r\n",
        "<th>1|id</th>\r\n",
        "</tr>\r\n",
        "</thead>\r\n",
        "<tbody>\r\n",
        "<tr>\r\n",
        "<td>\u0531\u0580\u0561\u0574 \u053d\u0561\u0579\u0561\u057f\u0580\u0575\u0561\u0576</td>\r\n",
        "<td style='text-align: right'>1</td>\r\n",
        "</tr>\r\n",
        "<tr>\r\n",
        "<td>Johann Strau\u00df</td>\r\n",
        "<td style='text-align: right'>2</td>\r\n",
        "</tr>\r\n",
        "<tr>\r\n",
        "<td>\u0412\u0430\u0433\u0438\u0444 \u0421\u04d9\u043c\u04d9\u0434\u043e\u0493\u043b\u0443</td>\r\n",
        "<td style='text-align: right'>3</td>\r\n",
        "</tr>\r\n",
        "<tr>\r\n",
        "<td>\u7ae0\u5b50\u6021</td>\r\n",
        "<td style='text-align: right'>4</td>\r\n",
        "</tr>\r\n",
        "<tr>\r\n",
        "<td>\u0531\u0580\u0561\u0574 \u053d\u0561\u0579\u0561\u057f\u0580\u0575\u0561\u0576</td>\r\n",
        "<td style='text-align: right'>1</td>\r\n",
        "</tr>\r\n",
        "</tbody>\r\n",
        "</table>\r\n",
        "<p><strong>...</strong></p>"
       ],
       "metadata": {},
       "output_type": "pyout",
       "prompt_number": 11,
       "text": [
        "+-------------------+------+\n",
        "| 0|name            | 1|id |\n",
        "+===================+======+\n",
        "| '\u0531\u0580\u0561\u0574 \u053d\u0561\u0579\u0561\u057f\u0580\u0575\u0561\u0576'  |    1 |\n",
        "+-------------------+------+\n",
        "| 'Johann Strau\u00df'   |    2 |\n",
        "+-------------------+------+\n",
        "| '\u0412\u0430\u0433\u0438\u0444 \u0421\u04d9\u043c\u04d9\u0434\u043e\u0493\u043b\u0443' |    3 |\n",
        "+-------------------+------+\n",
        "| '\u7ae0\u5b50\u6021'             |    4 |\n",
        "+-------------------+------+\n",
        "| '\u0531\u0580\u0561\u0574 \u053d\u0561\u0579\u0561\u057f\u0580\u0575\u0561\u0576'  |    1 |\n",
        "+-------------------+------+\n",
        "..."
       ]
      }
     ],
     "prompt_number": 11
    },
    {
     "cell_type": "code",
     "collapsed": false,
     "input": [
      "tbl2.display(caption='unicode example')"
     ],
     "language": "python",
     "metadata": {},
     "outputs": [
      {
       "html": [
        "<table class='petl'>\r\n",
        "<caption>unicode example</caption>\r\n",
        "<thead>\r\n",
        "<tr>\r\n",
        "<th>name</th>\r\n",
        "<th>id</th>\r\n",
        "</tr>\r\n",
        "</thead>\r\n",
        "<tbody>\r\n",
        "<tr>\r\n",
        "<td>\u0531\u0580\u0561\u0574 \u053d\u0561\u0579\u0561\u057f\u0580\u0575\u0561\u0576</td>\r\n",
        "<td style='text-align: right'>1</td>\r\n",
        "</tr>\r\n",
        "<tr>\r\n",
        "<td>Johann Strau\u00df</td>\r\n",
        "<td style='text-align: right'>2</td>\r\n",
        "</tr>\r\n",
        "<tr>\r\n",
        "<td>\u0412\u0430\u0433\u0438\u0444 \u0421\u04d9\u043c\u04d9\u0434\u043e\u0493\u043b\u0443</td>\r\n",
        "<td style='text-align: right'>3</td>\r\n",
        "</tr>\r\n",
        "<tr>\r\n",
        "<td>\u7ae0\u5b50\u6021</td>\r\n",
        "<td style='text-align: right'>4</td>\r\n",
        "</tr>\r\n",
        "<tr>\r\n",
        "<td>\u0531\u0580\u0561\u0574 \u053d\u0561\u0579\u0561\u057f\u0580\u0575\u0561\u0576</td>\r\n",
        "<td style='text-align: right'>1</td>\r\n",
        "</tr>\r\n",
        "</tbody>\r\n",
        "</table>\r\n",
        "<p><strong>...</strong></p>"
       ],
       "metadata": {},
       "output_type": "display_data"
      }
     ],
     "prompt_number": 12
    },
    {
     "cell_type": "code",
     "collapsed": false,
     "input": [],
     "language": "python",
     "metadata": {},
     "outputs": [],
     "prompt_number": 12
    }
   ],
   "metadata": {}
  }
 ]
}